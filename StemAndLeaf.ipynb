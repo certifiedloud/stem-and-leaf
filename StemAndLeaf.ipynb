{
 "cells": [
  {
   "cell_type": "code",
   "execution_count": 1,
   "metadata": {
    "collapsed": true
   },
   "outputs": [],
   "source": [
    "from StemAndLeaf import StemAndLeafPlot as st"
   ]
  },
  {
   "cell_type": "code",
   "execution_count": 2,
   "metadata": {
    "collapsed": true
   },
   "outputs": [],
   "source": [
    "import random"
   ]
  },
  {
   "cell_type": "code",
   "execution_count": 3,
   "metadata": {
    "collapsed": false
   },
   "outputs": [],
   "source": [
    "nums = random.sample(range(150), 50)"
   ]
  },
  {
   "cell_type": "code",
   "execution_count": 4,
   "metadata": {
    "collapsed": true
   },
   "outputs": [],
   "source": [
    "plot = st(nums)"
   ]
  },
  {
   "cell_type": "code",
   "execution_count": 5,
   "metadata": {
    "collapsed": false
   },
   "outputs": [
    {
     "name": "stdout",
     "output_type": "stream",
     "text": [
      "0   | 2 4 5 6 8 \n",
      "1   | 7 9 \n",
      "2   | 1 4 5 \n",
      "3   | 1 2 3 4 5 9 \n",
      "4   | 0 2 3 4 7 \n",
      "5   | 1 3 4 \n",
      "6   | 4 7 \n",
      "7   | 2 \n",
      "8   | 4 5 6 7 \n",
      "9   | 2 3 7 \n",
      "10  | 1 3 4 7 8 9 \n",
      "11  | 0 4 9 \n",
      "12  | 0 1 2 6 \n",
      "13  | 0 3 \n",
      "14  | 8 \n",
      "\n",
      "Key: 1 | 2 = 12\n"
     ]
    }
   ],
   "source": [
    "plot.plot()"
   ]
  },
  {
   "cell_type": "code",
   "execution_count": 6,
   "metadata": {
    "collapsed": false
   },
   "outputs": [
    {
     "name": "stdout",
     "output_type": "stream",
     "text": [
      "[2, 4, 5, 6, 8, 17, 19, 21, 24, 25, 31, 32, 33, 34, 35, 39, 40, 42, 43, 44, 47, 51, 53, 54, 64, 67, 72, 84, 85, 86, 87, 92, 93, 97, 101, 103, 104, 107, 108, 109, 110, 114, 119, 120, 121, 122, 126, 130, 133, 148]\n"
     ]
    }
   ],
   "source": [
    "print(sorted(nums)) # For reference"
   ]
  }
 ],
 "metadata": {
  "kernelspec": {
   "display_name": "Python 3",
   "language": "python",
   "name": "python3"
  },
  "language_info": {
   "codemirror_mode": {
    "name": "ipython",
    "version": 3
   },
   "file_extension": ".py",
   "mimetype": "text/x-python",
   "name": "python",
   "nbconvert_exporter": "python",
   "pygments_lexer": "ipython3",
   "version": "3.5.1"
  }
 },
 "nbformat": 4,
 "nbformat_minor": 1
}
