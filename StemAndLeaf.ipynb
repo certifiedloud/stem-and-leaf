{
 "cells": [
  {
   "cell_type": "code",
   "execution_count": 23,
   "metadata": {
    "collapsed": true
   },
   "outputs": [],
   "source": [
    "from StemAndLeaf import StemAndLeafPlot as st"
   ]
  },
  {
   "cell_type": "code",
   "execution_count": 24,
   "metadata": {
    "collapsed": true
   },
   "outputs": [],
   "source": [
    "import random"
   ]
  },
  {
   "cell_type": "code",
   "execution_count": null,
   "metadata": {
    "collapsed": true
   },
   "outputs": [],
   "source": []
  },
  {
   "cell_type": "code",
   "execution_count": 35,
   "metadata": {
    "collapsed": false
   },
   "outputs": [],
   "source": [
    "nums = random.sample(range(150), 50)"
   ]
  },
  {
   "cell_type": "code",
   "execution_count": 36,
   "metadata": {
    "collapsed": true
   },
   "outputs": [],
   "source": [
    "plot = st(nums)"
   ]
  },
  {
   "cell_type": "code",
   "execution_count": 37,
   "metadata": {
    "collapsed": false
   },
   "outputs": [
    {
     "name": "stdout",
     "output_type": "stream",
     "text": [
      "0 | 5 6 7 \n",
      "1 | 0 4 8 \n",
      "2 | 0 1 4 \n",
      "3 | 4 7 \n",
      "4 | 0 2 4 \n",
      "5 | 0 7 \n",
      "6 | 7 8 \n",
      "7 | 2 3 \n",
      "8 | 0 1 3 5 7 9 \n",
      "9 | 1 4 5 \n",
      "10 | 6 8 9 \n",
      "11 | 1 3 5 6 9 \n",
      "12 | 2 3 4 6 9 \n",
      "13 | 0 2 3 \n",
      "14 | 3 4 5 7 8 \n",
      "\n",
      "Key: 1 | 2 = 12\n"
     ]
    }
   ],
   "source": [
    "plot.plot()"
   ]
  },
  {
   "cell_type": "code",
   "execution_count": 39,
   "metadata": {
    "collapsed": false
   },
   "outputs": [
    {
     "name": "stdout",
     "output_type": "stream",
     "text": [
      "[5, 6, 7, 10, 14, 18, 20, 21, 24, 34, 37, 40, 42, 44, 50, 57, 67, 68, 72, 73, 80, 81, 83, 85, 87, 89, 91, 94, 95, 106, 108, 109, 111, 113, 115, 116, 119, 122, 123, 124, 126, 129, 130, 132, 133, 143, 144, 145, 147, 148]\n"
     ]
    }
   ],
   "source": [
    "print(sorted(nums)) # For reference"
   ]
  }
 ],
 "metadata": {
  "kernelspec": {
   "display_name": "Python 3",
   "language": "python",
   "name": "python3"
  },
  "language_info": {
   "codemirror_mode": {
    "name": "ipython",
    "version": 3
   },
   "file_extension": ".py",
   "mimetype": "text/x-python",
   "name": "python",
   "nbconvert_exporter": "python",
   "pygments_lexer": "ipython3",
   "version": "3.5.1"
  }
 },
 "nbformat": 4,
 "nbformat_minor": 1
}
