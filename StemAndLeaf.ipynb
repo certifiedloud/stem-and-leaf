{
 "cells": [
  {
   "cell_type": "code",
   "execution_count": 1,
   "metadata": {
    "collapsed": true
   },
   "outputs": [],
   "source": [
    "from StemAndLeaf import StemAndLeafPlot as st"
   ]
  },
  {
   "cell_type": "code",
   "execution_count": 19,
   "metadata": {
    "collapsed": true
   },
   "outputs": [],
   "source": [
    "import random"
   ]
  },
  {
   "cell_type": "code",
   "execution_count": 23,
   "metadata": {
    "collapsed": false
   },
   "outputs": [],
   "source": [
    "nums = []\n",
    "for i in range(100):\n",
    "    nums.append(random.randint(0, 100))"
   ]
  },
  {
   "cell_type": "code",
   "execution_count": 24,
   "metadata": {
    "collapsed": true
   },
   "outputs": [],
   "source": [
    "plot = st(nums)"
   ]
  },
  {
   "cell_type": "code",
   "execution_count": 25,
   "metadata": {
    "collapsed": false
   },
   "outputs": [
    {
     "name": "stdout",
     "output_type": "stream",
     "text": [
      "0   | 1 2 3 4 4 7 9 \n",
      "1   | 1 2 5 6 6 7 9 9 \n",
      "2   | 0 2 3 3 4 6 9 \n",
      "3   | 1 1 1 3 4 4 9 9 9 \n",
      "4   | 1 1 2 3 3 5 5 7 9 9 9 \n",
      "5   | 0 0 2 2 2 4 \n",
      "6   | 0 0 0 2 3 4 6 7 9 9 \n",
      "7   | 0 1 1 2 5 7 7 7 7 8 8 9 9 9 \n",
      "8   | 0 0 2 3 3 3 4 5 5 5 6 8 8 9 9 9 \n",
      "9   | 0 0 2 2 5 6 6 8 8 \n",
      "10  | 0 0 0 \n",
      "\n",
      "Key: 1 | 2 = 12\n"
     ]
    }
   ],
   "source": [
    "plot.plot()"
   ]
  },
  {
   "cell_type": "code",
   "execution_count": 26,
   "metadata": {
    "collapsed": false
   },
   "outputs": [
    {
     "name": "stdout",
     "output_type": "stream",
     "text": [
      "[1, 2, 3, 4, 4, 7, 9, 11, 12, 15, 16, 16, 17, 19, 19, 20, 22, 23, 23, 24, 26, 29, 31, 31, 31, 33, 34, 34, 39, 39, 39, 41, 41, 42, 43, 43, 45, 45, 47, 49, 49, 49, 50, 50, 52, 52, 52, 54, 60, 60, 60, 62, 63, 64, 66, 67, 69, 69, 70, 71, 71, 72, 75, 77, 77, 77, 77, 78, 78, 79, 79, 79, 80, 80, 82, 83, 83, 83, 84, 85, 85, 85, 86, 88, 88, 89, 89, 89, 90, 90, 92, 92, 95, 96, 96, 98, 98, 100, 100, 100]\n"
     ]
    }
   ],
   "source": [
    "print(sorted(nums)) # For reference"
   ]
  },
  {
   "cell_type": "code",
   "execution_count": null,
   "metadata": {
    "collapsed": true
   },
   "outputs": [],
   "source": []
  }
 ],
 "metadata": {
  "kernelspec": {
   "display_name": "Python 3",
   "language": "python",
   "name": "python3"
  },
  "language_info": {
   "codemirror_mode": {
    "name": "ipython",
    "version": 3
   },
   "file_extension": ".py",
   "mimetype": "text/x-python",
   "name": "python",
   "nbconvert_exporter": "python",
   "pygments_lexer": "ipython3",
   "version": "3.5.1"
  }
 },
 "nbformat": 4,
 "nbformat_minor": 1
}
